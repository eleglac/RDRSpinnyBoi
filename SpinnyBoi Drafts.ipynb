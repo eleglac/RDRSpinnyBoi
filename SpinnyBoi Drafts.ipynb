{
 "cells": [
  {
   "cell_type": "code",
   "execution_count": 1,
   "metadata": {},
   "outputs": [
    {
     "data": {
      "text/html": [
       "<div>\n",
       "<style scoped>\n",
       "    .dataframe tbody tr th:only-of-type {\n",
       "        vertical-align: middle;\n",
       "    }\n",
       "\n",
       "    .dataframe tbody tr th {\n",
       "        vertical-align: top;\n",
       "    }\n",
       "\n",
       "    .dataframe thead th {\n",
       "        text-align: right;\n",
       "    }\n",
       "</style>\n",
       "<table border=\"1\" class=\"dataframe\">\n",
       "  <thead>\n",
       "    <tr style=\"text-align: right;\">\n",
       "      <th></th>\n",
       "      <th>Title</th>\n",
       "      <th>Genre</th>\n",
       "      <th>Genre Number</th>\n",
       "      <th>Link</th>\n",
       "    </tr>\n",
       "  </thead>\n",
       "  <tbody>\n",
       "    <tr>\n",
       "      <th>0</th>\n",
       "      <td>adventures in new america</td>\n",
       "      <td>Comedy</td>\n",
       "      <td>1</td>\n",
       "      <td>http://www.nightvalepresents.com/adventuresinn...</td>\n",
       "    </tr>\n",
       "    <tr>\n",
       "      <th>1</th>\n",
       "      <td>akiha den den</td>\n",
       "      <td>experimental</td>\n",
       "      <td>9</td>\n",
       "      <td>https://podcasts.apple.com/au/podcast/akiha-de...</td>\n",
       "    </tr>\n",
       "    <tr>\n",
       "      <th>2</th>\n",
       "      <td>arca-45672</td>\n",
       "      <td>in space</td>\n",
       "      <td>5</td>\n",
       "      <td>https://www.arca45672.com/</td>\n",
       "    </tr>\n",
       "    <tr>\n",
       "      <th>3</th>\n",
       "      <td>ars paradoxica</td>\n",
       "      <td>science fiction</td>\n",
       "      <td>3</td>\n",
       "      <td>https://www.whisperforge.org/arsparadoxica</td>\n",
       "    </tr>\n",
       "    <tr>\n",
       "      <th>4</th>\n",
       "      <td>audio dime museum</td>\n",
       "      <td>intimate realities</td>\n",
       "      <td>4</td>\n",
       "      <td>https://audiodimemuseum.libsyn.com/</td>\n",
       "    </tr>\n",
       "    <tr>\n",
       "      <th>...</th>\n",
       "      <td>...</td>\n",
       "      <td>...</td>\n",
       "      <td>...</td>\n",
       "      <td>...</td>\n",
       "    </tr>\n",
       "    <tr>\n",
       "      <th>124</th>\n",
       "      <td>we fix space junk</td>\n",
       "      <td>in space</td>\n",
       "      <td>5</td>\n",
       "      <td>https://battlebird.libsyn.com/</td>\n",
       "    </tr>\n",
       "    <tr>\n",
       "      <th>125</th>\n",
       "      <td>who exploded vivian stone?</td>\n",
       "      <td>Comedy</td>\n",
       "      <td>1</td>\n",
       "      <td>https://play.acast.com/s/whoexplodedvivienstone</td>\n",
       "    </tr>\n",
       "    <tr>\n",
       "      <th>126</th>\n",
       "      <td>windfall</td>\n",
       "      <td>science fiction</td>\n",
       "      <td>3</td>\n",
       "      <td>https://windfallpodcast.com/</td>\n",
       "    </tr>\n",
       "    <tr>\n",
       "      <th>127</th>\n",
       "      <td>wooden overcoats</td>\n",
       "      <td>Comedy</td>\n",
       "      <td>1</td>\n",
       "      <td>https://www.woodenovercoats.com/</td>\n",
       "    </tr>\n",
       "    <tr>\n",
       "      <th>128</th>\n",
       "      <td>wormwood</td>\n",
       "      <td>mystery</td>\n",
       "      <td>10</td>\n",
       "      <td>http://wormwoodshow.com/</td>\n",
       "    </tr>\n",
       "  </tbody>\n",
       "</table>\n",
       "<p>129 rows × 4 columns</p>\n",
       "</div>"
      ],
      "text/plain": [
       "                          Title               Genre  Genre Number  \\\n",
       "0     adventures in new america              Comedy             1   \n",
       "1                 akiha den den        experimental             9   \n",
       "2                    arca-45672            in space             5   \n",
       "3                ars paradoxica     science fiction             3   \n",
       "4             audio dime museum  intimate realities             4   \n",
       "..                          ...                 ...           ...   \n",
       "124           we fix space junk            in space             5   \n",
       "125  who exploded vivian stone?              Comedy             1   \n",
       "126                    windfall     science fiction             3   \n",
       "127            wooden overcoats              Comedy             1   \n",
       "128                    wormwood             mystery            10   \n",
       "\n",
       "                                                  Link  \n",
       "0    http://www.nightvalepresents.com/adventuresinn...  \n",
       "1    https://podcasts.apple.com/au/podcast/akiha-de...  \n",
       "2                           https://www.arca45672.com/  \n",
       "3           https://www.whisperforge.org/arsparadoxica  \n",
       "4                  https://audiodimemuseum.libsyn.com/  \n",
       "..                                                 ...  \n",
       "124                     https://battlebird.libsyn.com/  \n",
       "125    https://play.acast.com/s/whoexplodedvivienstone  \n",
       "126                       https://windfallpodcast.com/  \n",
       "127                   https://www.woodenovercoats.com/  \n",
       "128                           http://wormwoodshow.com/  \n",
       "\n",
       "[129 rows x 4 columns]"
      ]
     },
     "execution_count": 1,
     "metadata": {},
     "output_type": "execute_result"
    }
   ],
   "source": [
    "from datetime import datetime\n",
    "#a = datetime.now()\n",
    "#a = int(a.strftime('%f'))\n",
    "#spin = round(a/100000)\n",
    "\n",
    "import pandas as pd \n",
    "\n",
    "df = pd.read_csv(\"https://docs.google.com/spreadsheets/d/e/2PACX-1vTWc2VxHamAlR4RQK2GiDg6eVGiWa-azbIssCeSwxMnOOuqv200oZoIgxF4LWcAWHOAVBugXLUbQx9E/pub?output=csv\", header=None, names=['Title', 'Genre', 'Genre Number', 'Link'])\n",
    "\n",
    "\n",
    "\n",
    "df"
   ]
  },
  {
   "cell_type": "code",
   "execution_count": 2,
   "metadata": {},
   "outputs": [
    {
     "data": {
      "text/html": [
       "<div>\n",
       "<style scoped>\n",
       "    .dataframe tbody tr th:only-of-type {\n",
       "        vertical-align: middle;\n",
       "    }\n",
       "\n",
       "    .dataframe tbody tr th {\n",
       "        vertical-align: top;\n",
       "    }\n",
       "\n",
       "    .dataframe thead th {\n",
       "        text-align: right;\n",
       "    }\n",
       "</style>\n",
       "<table border=\"1\" class=\"dataframe\">\n",
       "  <thead>\n",
       "    <tr style=\"text-align: right;\">\n",
       "      <th></th>\n",
       "      <th>Title</th>\n",
       "      <th>Genre</th>\n",
       "      <th>Genre Number</th>\n",
       "      <th>Link</th>\n",
       "      <th>Tiny</th>\n",
       "    </tr>\n",
       "  </thead>\n",
       "  <tbody>\n",
       "    <tr>\n",
       "      <th>0</th>\n",
       "      <td>adventures in new america</td>\n",
       "      <td>Comedy</td>\n",
       "      <td>1</td>\n",
       "      <td>http://www.nightvalepresents.com/adventuresinn...</td>\n",
       "      <td>http://tinyurl.com/y3jqt66s</td>\n",
       "    </tr>\n",
       "    <tr>\n",
       "      <th>1</th>\n",
       "      <td>akiha den den</td>\n",
       "      <td>experimental</td>\n",
       "      <td>9</td>\n",
       "      <td>https://podcasts.apple.com/au/podcast/akiha-de...</td>\n",
       "      <td>http://tinyurl.com/y5jlavla</td>\n",
       "    </tr>\n",
       "    <tr>\n",
       "      <th>2</th>\n",
       "      <td>arca-45672</td>\n",
       "      <td>in space</td>\n",
       "      <td>5</td>\n",
       "      <td>https://www.arca45672.com/</td>\n",
       "      <td>http://tinyurl.com/y6xcy6yr</td>\n",
       "    </tr>\n",
       "    <tr>\n",
       "      <th>3</th>\n",
       "      <td>ars paradoxica</td>\n",
       "      <td>science fiction</td>\n",
       "      <td>3</td>\n",
       "      <td>https://www.whisperforge.org/arsparadoxica</td>\n",
       "      <td>http://tinyurl.com/y3hyqrjo</td>\n",
       "    </tr>\n",
       "    <tr>\n",
       "      <th>4</th>\n",
       "      <td>audio dime museum</td>\n",
       "      <td>intimate realities</td>\n",
       "      <td>4</td>\n",
       "      <td>https://audiodimemuseum.libsyn.com/</td>\n",
       "      <td>http://tinyurl.com/y65gqcvl</td>\n",
       "    </tr>\n",
       "  </tbody>\n",
       "</table>\n",
       "</div>"
      ],
      "text/plain": [
       "                       Title               Genre  Genre Number  \\\n",
       "0  adventures in new america              Comedy             1   \n",
       "1              akiha den den        experimental             9   \n",
       "2                 arca-45672            in space             5   \n",
       "3             ars paradoxica     science fiction             3   \n",
       "4          audio dime museum  intimate realities             4   \n",
       "\n",
       "                                                Link  \\\n",
       "0  http://www.nightvalepresents.com/adventuresinn...   \n",
       "1  https://podcasts.apple.com/au/podcast/akiha-de...   \n",
       "2                         https://www.arca45672.com/   \n",
       "3         https://www.whisperforge.org/arsparadoxica   \n",
       "4                https://audiodimemuseum.libsyn.com/   \n",
       "\n",
       "                          Tiny  \n",
       "0  http://tinyurl.com/y3jqt66s  \n",
       "1  http://tinyurl.com/y5jlavla  \n",
       "2  http://tinyurl.com/y6xcy6yr  \n",
       "3  http://tinyurl.com/y3hyqrjo  \n",
       "4  http://tinyurl.com/y65gqcvl  "
      ]
     },
     "execution_count": 2,
     "metadata": {},
     "output_type": "execute_result"
    }
   ],
   "source": [
    "from __future__ import with_statement                                                            \n",
    "  \n",
    "import contextlib \n",
    "  \n",
    "try: \n",
    "    from urllib.parse import urlencode           \n",
    "  \n",
    "except ImportError: \n",
    "    from urllib import urlencode \n",
    "try: \n",
    "    from urllib.request import urlopen \n",
    "  \n",
    "except ImportError: \n",
    "    from urllib2 import urlopen \n",
    "  \n",
    "import sys \n",
    "  \n",
    "\n",
    "\n",
    "def make_tiny(urllist):\n",
    "    tinycolumn = []\n",
    "    for url in urllist:\n",
    "        tinycolumn.append(tiny(url))\n",
    "    df['Tiny']= tinycolumn\n",
    "  \n",
    "def tiny(url): \n",
    "    request_url = ('http://tinyurl.com/api-create.php?' + urlencode({'url':url}))     \n",
    "    with contextlib.closing(urlopen(request_url)) as response:                       \n",
    "        return response.read().decode('utf-8 ')                                       \n",
    "\n",
    "\n",
    "make_tiny(df['Link'])\n",
    "df.head()"
   ]
  },
  {
   "cell_type": "code",
   "execution_count": 8,
   "metadata": {},
   "outputs": [
    {
     "name": "stdout",
     "output_type": "stream",
     "text": [
      "8\n",
      "Title                                   gone\n",
      "Genre                                 horror\n",
      "Genre Number                               8\n",
      "Link            https://www.parcast.com/gone\n",
      "Tiny             http://tinyurl.com/y2wfpvgs\n",
      "Name: 23, dtype: object\n",
      "-------------\n",
      "You got Horror\n",
      "Gone\n",
      "http://tinyurl.com/y2wfpvgs\n"
     ]
    }
   ],
   "source": [
    "import random \n",
    "spin = random.randint(1,12)\n",
    "print(spin)\n",
    "#fix that it gives you a random link and not the same link as the show \n",
    "winner = df[df['Genre Number']==spin].iloc[0]\n",
    "print(winner)\n",
    "print(\"-------------\")\n",
    "print(\"You got \" + winner['Genre'].title())\n",
    "print(winner['Title'].title())\n",
    "print(winner['Tiny'])"
   ]
  },
  {
   "cell_type": "code",
   "execution_count": 4,
   "metadata": {},
   "outputs": [],
   "source": [
    "\n",
    "%store -r CONSUMER_KEY\n",
    "%store -r CONSUMER_SECRET\n",
    "%store -r ACCESS_TOKEN\n",
    "%store -r ACCESS_TOKEN_SECRET "
   ]
  },
  {
   "cell_type": "code",
   "execution_count": 6,
   "metadata": {},
   "outputs": [],
   "source": [
    "# Authenticate to Twitter\n",
    "import tweepy\n",
    "auth = tweepy.OAuthHandler(CONSUMER_KEY, CONSUMER_SECRET)\n",
    "auth.set_access_token(ACCESS_TOKEN, ACCESS_TOKEN_SECRET)\n",
    "\n",
    "# Create API object\n",
    "api = tweepy.API(auth)\n",
    "\n",
    "# Create a tweet\n",
    "#api.update_status(\"Twitter API. Test test 123. It was a dark and stormy night.\")"
   ]
  },
  {
   "cell_type": "code",
   "execution_count": 10,
   "metadata": {},
   "outputs": [
    {
     "data": {
      "text/plain": [
       "'icarusfloats'"
      ]
     },
     "execution_count": 10,
     "metadata": {},
     "output_type": "execute_result"
    }
   ],
   "source": [
    "import json\n",
    "\n",
    "result_list = api.mentions_timeline(count=10)\n",
    "\n",
    "\n",
    "status = result_list[0]\n",
    "json_str = json.dumps(status._json)\n",
    "text =json.loads(json_str)\n",
    "twitteruser = text['user']['screen_name']\n",
    "twitteruser"
   ]
  },
  {
   "cell_type": "code",
   "execution_count": 6,
   "metadata": {},
   "outputs": [
    {
     "ename": "SyntaxError",
     "evalue": "invalid syntax (<ipython-input-6-6fafc2709bfe>, line 1)",
     "output_type": "error",
     "traceback": [
      "\u001b[0;36m  File \u001b[0;32m\"<ipython-input-6-6fafc2709bfe>\"\u001b[0;36m, line \u001b[0;32m1\u001b[0m\n\u001b[0;31m    \"Hello, I am the RDR Spinny Boi. I think therefore I spin\" \"You spun the wheel and got \" +genre \"Why not try out this \"+genre\u001b[0m\n\u001b[0m                                                                                                                          ^\u001b[0m\n\u001b[0;31mSyntaxError\u001b[0m\u001b[0;31m:\u001b[0m invalid syntax\n"
     ]
    }
   ],
   "source": [
    "\"Hello, I am the RDR Spinny Boi. I think therefore I spin\" \n",
    "\"You spun the wheel and got \" +genre \n",
    "\"Why not try out this \"+genre + \"show \"+ title +\"!\"\n"
   ]
  },
  {
   "cell_type": "code",
   "execution_count": 106,
   "metadata": {},
   "outputs": [
    {
     "data": {
      "text/plain": [
       "Status(_api=<tweepy.api.API object at 0x7f1962078a58>, _json={'created_at': 'Tue Nov 05 20:51:42 +0000 2019', 'id': 1191820407537487872, 'id_str': '1191820407537487872', 'text': '@icarusfloats You got hopepunk. Why not try out everything is alive ? They can be found at: https://t.co/F741iBJyLO', 'truncated': False, 'entities': {'hashtags': [], 'symbols': [], 'user_mentions': [{'screen_name': 'icarusfloats', 'name': '🦃Gravy Rheinstrom🦃', 'id': 20787066, 'id_str': '20787066', 'indices': [0, 13]}], 'urls': [{'url': 'https://t.co/F741iBJyLO', 'expanded_url': 'http://tinyurl.com/y3wg3fa6', 'display_url': 'tinyurl.com/y3wg3fa6', 'indices': [92, 115]}]}, 'source': '<a href=\"https://github.com/heatherjcohen\" rel=\"nofollow\">TwitterBotCrime</a>', 'in_reply_to_status_id': None, 'in_reply_to_status_id_str': None, 'in_reply_to_user_id': 20787066, 'in_reply_to_user_id_str': '20787066', 'in_reply_to_screen_name': 'icarusfloats', 'user': {'id': 2981595259, 'id_str': '2981595259', 'name': 'HC', 'screen_name': 'millioninprizes', 'location': '', 'description': '', 'url': None, 'entities': {'description': {'urls': []}}, 'protected': False, 'followers_count': 5, 'friends_count': 8, 'listed_count': 0, 'created_at': 'Wed Jan 14 04:15:39 +0000 2015', 'favourites_count': 25, 'utc_offset': None, 'time_zone': None, 'geo_enabled': False, 'verified': False, 'statuses_count': 13, 'lang': None, 'contributors_enabled': False, 'is_translator': False, 'is_translation_enabled': False, 'profile_background_color': 'C0DEED', 'profile_background_image_url': 'http://abs.twimg.com/images/themes/theme1/bg.png', 'profile_background_image_url_https': 'https://abs.twimg.com/images/themes/theme1/bg.png', 'profile_background_tile': False, 'profile_image_url': 'http://abs.twimg.com/sticky/default_profile_images/default_profile_normal.png', 'profile_image_url_https': 'https://abs.twimg.com/sticky/default_profile_images/default_profile_normal.png', 'profile_link_color': '1DA1F2', 'profile_sidebar_border_color': 'C0DEED', 'profile_sidebar_fill_color': 'DDEEF6', 'profile_text_color': '333333', 'profile_use_background_image': True, 'has_extended_profile': False, 'default_profile': True, 'default_profile_image': True, 'can_media_tag': True, 'followed_by': False, 'following': False, 'follow_request_sent': False, 'notifications': False, 'translator_type': 'none'}, 'geo': None, 'coordinates': None, 'place': None, 'contributors': None, 'is_quote_status': False, 'retweet_count': 0, 'favorite_count': 0, 'favorited': False, 'retweeted': False, 'possibly_sensitive': False, 'lang': 'en'}, created_at=datetime.datetime(2019, 11, 5, 20, 51, 42), id=1191820407537487872, id_str='1191820407537487872', text='@icarusfloats You got hopepunk. Why not try out everything is alive ? They can be found at: https://t.co/F741iBJyLO', truncated=False, entities={'hashtags': [], 'symbols': [], 'user_mentions': [{'screen_name': 'icarusfloats', 'name': '🦃Gravy Rheinstrom🦃', 'id': 20787066, 'id_str': '20787066', 'indices': [0, 13]}], 'urls': [{'url': 'https://t.co/F741iBJyLO', 'expanded_url': 'http://tinyurl.com/y3wg3fa6', 'display_url': 'tinyurl.com/y3wg3fa6', 'indices': [92, 115]}]}, source='TwitterBotCrime', source_url='https://github.com/heatherjcohen', in_reply_to_status_id=None, in_reply_to_status_id_str=None, in_reply_to_user_id=20787066, in_reply_to_user_id_str='20787066', in_reply_to_screen_name='icarusfloats', author=User(_api=<tweepy.api.API object at 0x7f1962078a58>, _json={'id': 2981595259, 'id_str': '2981595259', 'name': 'HC', 'screen_name': 'millioninprizes', 'location': '', 'description': '', 'url': None, 'entities': {'description': {'urls': []}}, 'protected': False, 'followers_count': 5, 'friends_count': 8, 'listed_count': 0, 'created_at': 'Wed Jan 14 04:15:39 +0000 2015', 'favourites_count': 25, 'utc_offset': None, 'time_zone': None, 'geo_enabled': False, 'verified': False, 'statuses_count': 13, 'lang': None, 'contributors_enabled': False, 'is_translator': False, 'is_translation_enabled': False, 'profile_background_color': 'C0DEED', 'profile_background_image_url': 'http://abs.twimg.com/images/themes/theme1/bg.png', 'profile_background_image_url_https': 'https://abs.twimg.com/images/themes/theme1/bg.png', 'profile_background_tile': False, 'profile_image_url': 'http://abs.twimg.com/sticky/default_profile_images/default_profile_normal.png', 'profile_image_url_https': 'https://abs.twimg.com/sticky/default_profile_images/default_profile_normal.png', 'profile_link_color': '1DA1F2', 'profile_sidebar_border_color': 'C0DEED', 'profile_sidebar_fill_color': 'DDEEF6', 'profile_text_color': '333333', 'profile_use_background_image': True, 'has_extended_profile': False, 'default_profile': True, 'default_profile_image': True, 'can_media_tag': True, 'followed_by': False, 'following': False, 'follow_request_sent': False, 'notifications': False, 'translator_type': 'none'}, id=2981595259, id_str='2981595259', name='HC', screen_name='millioninprizes', location='', description='', url=None, entities={'description': {'urls': []}}, protected=False, followers_count=5, friends_count=8, listed_count=0, created_at=datetime.datetime(2015, 1, 14, 4, 15, 39), favourites_count=25, utc_offset=None, time_zone=None, geo_enabled=False, verified=False, statuses_count=13, lang=None, contributors_enabled=False, is_translator=False, is_translation_enabled=False, profile_background_color='C0DEED', profile_background_image_url='http://abs.twimg.com/images/themes/theme1/bg.png', profile_background_image_url_https='https://abs.twimg.com/images/themes/theme1/bg.png', profile_background_tile=False, profile_image_url='http://abs.twimg.com/sticky/default_profile_images/default_profile_normal.png', profile_image_url_https='https://abs.twimg.com/sticky/default_profile_images/default_profile_normal.png', profile_link_color='1DA1F2', profile_sidebar_border_color='C0DEED', profile_sidebar_fill_color='DDEEF6', profile_text_color='333333', profile_use_background_image=True, has_extended_profile=False, default_profile=True, default_profile_image=True, can_media_tag=True, followed_by=False, following=False, follow_request_sent=False, notifications=False, translator_type='none'), user=User(_api=<tweepy.api.API object at 0x7f1962078a58>, _json={'id': 2981595259, 'id_str': '2981595259', 'name': 'HC', 'screen_name': 'millioninprizes', 'location': '', 'description': '', 'url': None, 'entities': {'description': {'urls': []}}, 'protected': False, 'followers_count': 5, 'friends_count': 8, 'listed_count': 0, 'created_at': 'Wed Jan 14 04:15:39 +0000 2015', 'favourites_count': 25, 'utc_offset': None, 'time_zone': None, 'geo_enabled': False, 'verified': False, 'statuses_count': 13, 'lang': None, 'contributors_enabled': False, 'is_translator': False, 'is_translation_enabled': False, 'profile_background_color': 'C0DEED', 'profile_background_image_url': 'http://abs.twimg.com/images/themes/theme1/bg.png', 'profile_background_image_url_https': 'https://abs.twimg.com/images/themes/theme1/bg.png', 'profile_background_tile': False, 'profile_image_url': 'http://abs.twimg.com/sticky/default_profile_images/default_profile_normal.png', 'profile_image_url_https': 'https://abs.twimg.com/sticky/default_profile_images/default_profile_normal.png', 'profile_link_color': '1DA1F2', 'profile_sidebar_border_color': 'C0DEED', 'profile_sidebar_fill_color': 'DDEEF6', 'profile_text_color': '333333', 'profile_use_background_image': True, 'has_extended_profile': False, 'default_profile': True, 'default_profile_image': True, 'can_media_tag': True, 'followed_by': False, 'following': False, 'follow_request_sent': False, 'notifications': False, 'translator_type': 'none'}, id=2981595259, id_str='2981595259', name='HC', screen_name='millioninprizes', location='', description='', url=None, entities={'description': {'urls': []}}, protected=False, followers_count=5, friends_count=8, listed_count=0, created_at=datetime.datetime(2015, 1, 14, 4, 15, 39), favourites_count=25, utc_offset=None, time_zone=None, geo_enabled=False, verified=False, statuses_count=13, lang=None, contributors_enabled=False, is_translator=False, is_translation_enabled=False, profile_background_color='C0DEED', profile_background_image_url='http://abs.twimg.com/images/themes/theme1/bg.png', profile_background_image_url_https='https://abs.twimg.com/images/themes/theme1/bg.png', profile_background_tile=False, profile_image_url='http://abs.twimg.com/sticky/default_profile_images/default_profile_normal.png', profile_image_url_https='https://abs.twimg.com/sticky/default_profile_images/default_profile_normal.png', profile_link_color='1DA1F2', profile_sidebar_border_color='C0DEED', profile_sidebar_fill_color='DDEEF6', profile_text_color='333333', profile_use_background_image=True, has_extended_profile=False, default_profile=True, default_profile_image=True, can_media_tag=True, followed_by=False, following=False, follow_request_sent=False, notifications=False, translator_type='none'), geo=None, coordinates=None, place=None, contributors=None, is_quote_status=False, retweet_count=0, favorite_count=0, favorited=False, retweeted=False, possibly_sensitive=False, lang='en')"
      ]
     },
     "execution_count": 106,
     "metadata": {},
     "output_type": "execute_result"
    }
   ],
   "source": [
    "api.update_status(\"@\"+twitteruser+ \" You got \" + winner['Genre'] +\". Why not try out \"+\n",
    "                  winner['Title']+ \"? They can be found at: \" + winner['Tiny'] )\n",
    "\n",
    "\n"
   ]
  },
  {
   "cell_type": "code",
   "execution_count": null,
   "metadata": {},
   "outputs": [],
   "source": [
    "##### To do \n",
    "\n",
    "################\n",
    "#Create twitter credentials file so not hard coded\n",
    "#create cache of last 50 tweets and whether i've already responded to that tweet id \n",
    "#get cache of everyone i've ever tweeted at to see if they are new\n",
    "#create tweet options to randomly choose from to change up wording \n",
    "#make all the functions within functions within functions \n",
    "#camelcase genres and titles so they look better "
   ]
  },
  {
   "cell_type": "code",
   "execution_count": null,
   "metadata": {},
   "outputs": [],
   "source": []
  },
  {
   "cell_type": "code",
   "execution_count": null,
   "metadata": {},
   "outputs": [],
   "source": []
  }
 ],
 "metadata": {
  "kernelspec": {
   "display_name": "Python 3",
   "language": "python",
   "name": "python3"
  },
  "language_info": {
   "codemirror_mode": {
    "name": "ipython",
    "version": 3
   },
   "file_extension": ".py",
   "mimetype": "text/x-python",
   "name": "python",
   "nbconvert_exporter": "python",
   "pygments_lexer": "ipython3",
   "version": "3.6.8"
  }
 },
 "nbformat": 4,
 "nbformat_minor": 2
}
