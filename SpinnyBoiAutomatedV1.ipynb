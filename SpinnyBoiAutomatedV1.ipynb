{
 "cells": [
  {
   "cell_type": "code",
   "execution_count": 3,
   "metadata": {},
   "outputs": [],
   "source": [
    "import pandas as pd \n",
    "from datetime import datetime\n",
    "from __future__ import with_statement                                                            \n",
    "import contextlib \n",
    "try: \n",
    "    from urllib.parse import urlencode           \n",
    "except ImportError: \n",
    "    from urllib import urlencode \n",
    "try: \n",
    "    from urllib.request import urlopen \n",
    "except ImportError: \n",
    "    from urllib2 import urlopen  \n",
    "import sys \n",
    "\n",
    "import random \n",
    "import tweepy\n",
    "import json\n",
    "import numpy as np\n",
    "#I am the RDR Spinny Boi\n",
    "#First, import all the libraries"
   ]
  },
  {
   "cell_type": "code",
   "execution_count": 4,
   "metadata": {},
   "outputs": [],
   "source": [
    "%store -r CONSUMER_KEY\n",
    "%store -r CONSUMER_SECRET\n",
    "%store -r ACCESS_TOKEN\n",
    "%store -r ACCESS_TOKEN_SECRET \n",
    "\n",
    "# Authenticate to Twitter\n",
    "import tweepy\n",
    "auth = tweepy.OAuthHandler(CONSUMER_KEY, CONSUMER_SECRET)\n",
    "auth.set_access_token(ACCESS_TOKEN, ACCESS_TOKEN_SECRET)\n",
    "\n",
    "# Create API object\n",
    "api = tweepy.API(auth)\n",
    "\n"
   ]
  },
  {
   "cell_type": "code",
   "execution_count": 40,
   "metadata": {},
   "outputs": [],
   "source": [
    "#Get the data set\n",
    "\n",
    "def get_recommendations(url, columns):\n",
    "    df = pd.read_csv(url, header=None, names=columns)\n",
    "#add tiny links\n",
    "    def make_tiny(urllist):\n",
    "        tinycolumn = []\n",
    "        for url in urllist:\n",
    "            tinycolumn.append(tiny(url))\n",
    "        df['Tiny']= tinycolumn\n",
    "  \n",
    "    def tiny(url): \n",
    "        request_url = ('http://tinyurl.com/api-create.php?' + urlencode({'url':url}))     \n",
    "        with contextlib.closing(urlopen(request_url)) as response:                       \n",
    "            return response.read().decode('utf-8 ')                                       \n",
    "\n",
    "\n",
    "    make_tiny(df['Link'])\n",
    "    #print(df.head())\n",
    "    #Spin the wheel\n",
    "    return df\n",
    "\n",
    "\n",
    "    \n",
    "spinnydf =get_recommendations(\"https://docs.google.com/spreadsheets/d/e/2PACX-1vTWc2VxHamAlR4RQK2GiDg6eVGiWa-azbIssCeSwxMnOOuqv200oZoIgxF4LWcAWHOAVBugXLUbQx9E/pub?output=csv\", ['Title', 'Genre', 'Genre Number', 'Link'])\n"
   ]
  },
  {
   "cell_type": "code",
   "execution_count": 115,
   "metadata": {},
   "outputs": [
    {
     "name": "stdout",
     "output_type": "stream",
     "text": [
      "Title                           Greater Boston\n",
      "Genre                       Intimate Realities\n",
      "Genre Number                                 4\n",
      "Link            https://greaterbostonshow.com/\n",
      "Tiny               http://tinyurl.com/yda7du6s\n",
      "Name: 24, dtype: object\n"
     ]
    }
   ],
   "source": [
    "def spinthewheel(df):\n",
    "    spin = random.randint(1,12)\n",
    "    spin2 = random.randint(0,len(df[df['Genre Number']==spin]))\n",
    "    #print(spin)\n",
    "    #fix that it gives you a random link and not the same link as the show \n",
    "    winner = df[df['Genre Number']==spin].iloc[spin2]\n",
    "    winner['Title'] = winner['Title'].title()\n",
    "    winner['Genre'] =winner['Genre'].title()\n",
    "    #print(winner)\n",
    "    #print(\"-------------\")\n",
    "    #print(\"You got \" + winnerGenre)\n",
    "    #print(\"Why not try \"+ winnerTitle)\n",
    "    #print(\"Found at: \"+ winnerTiny )\n",
    "    return winner\n",
    "    \n",
    "    \n",
    "\n",
    "#Win = spinthewheel(spinnydf)\n",
    "#print(Win)"
   ]
  },
  {
   "cell_type": "code",
   "execution_count": 106,
   "metadata": {},
   "outputs": [],
   "source": [
    "#get last x mentions\n",
    "#def get_mentions(x):\n",
    "#result_list = api.mentions_timeline(count=x)\n",
    "#status = result_list[0]\n",
    "# json_str = json.dumps(status._json)\n",
    "#  json =json.loads(json_str)\n",
    "#   twitteruser = json['user']['screen_name']\n",
    "#    twitteruser\n"
   ]
  },
  {
   "cell_type": "code",
   "execution_count": 43,
   "metadata": {},
   "outputs": [
    {
     "data": {
      "text/html": [
       "<div>\n",
       "<style scoped>\n",
       "    .dataframe tbody tr th:only-of-type {\n",
       "        vertical-align: middle;\n",
       "    }\n",
       "\n",
       "    .dataframe tbody tr th {\n",
       "        vertical-align: top;\n",
       "    }\n",
       "\n",
       "    .dataframe thead th {\n",
       "        text-align: right;\n",
       "    }\n",
       "</style>\n",
       "<table border=\"1\" class=\"dataframe\">\n",
       "  <thead>\n",
       "    <tr style=\"text-align: right;\">\n",
       "      <th></th>\n",
       "    </tr>\n",
       "  </thead>\n",
       "  <tbody>\n",
       "  </tbody>\n",
       "</table>\n",
       "</div>"
      ],
      "text/plain": [
       "Empty DataFrame\n",
       "Columns: []\n",
       "Index: []"
      ]
     },
     "execution_count": 43,
     "metadata": {},
     "output_type": "execute_result"
    }
   ],
   "source": [
    "Tweets = pd.DataFrame()\n",
    "Tweets"
   ]
  },
  {
   "cell_type": "code",
   "execution_count": 81,
   "metadata": {},
   "outputs": [
    {
     "data": {
      "text/html": [
       "<div>\n",
       "<style scoped>\n",
       "    .dataframe tbody tr th:only-of-type {\n",
       "        vertical-align: middle;\n",
       "    }\n",
       "\n",
       "    .dataframe tbody tr th {\n",
       "        vertical-align: top;\n",
       "    }\n",
       "\n",
       "    .dataframe thead th {\n",
       "        text-align: right;\n",
       "    }\n",
       "</style>\n",
       "<table border=\"1\" class=\"dataframe\">\n",
       "  <thead>\n",
       "    <tr style=\"text-align: right;\">\n",
       "      <th></th>\n",
       "      <th>Tweet ID</th>\n",
       "      <th>User</th>\n",
       "      <th>Created At</th>\n",
       "      <th>Text</th>\n",
       "    </tr>\n",
       "  </thead>\n",
       "  <tbody>\n",
       "    <tr>\n",
       "      <th>0</th>\n",
       "      <td>1194136096424071168</td>\n",
       "      <td>eleglac</td>\n",
       "      <td>Tue Nov 12 06:13:26 +0000 2019</td>\n",
       "      <td>@millioninprizes the last one had a beautiful ...</td>\n",
       "    </tr>\n",
       "    <tr>\n",
       "      <th>1</th>\n",
       "      <td>1194134502626357250</td>\n",
       "      <td>eleglac</td>\n",
       "      <td>Tue Nov 12 06:07:06 +0000 2019</td>\n",
       "      <td>@millioninprizes gimme some podcast magic</td>\n",
       "    </tr>\n",
       "    <tr>\n",
       "      <th>2</th>\n",
       "      <td>1191864428850892800</td>\n",
       "      <td>ShoMarq</td>\n",
       "      <td>Tue Nov 05 23:46:38 +0000 2019</td>\n",
       "      <td>@millioninprizes let's play this game/test</td>\n",
       "    </tr>\n",
       "    <tr>\n",
       "      <th>3</th>\n",
       "      <td>1191814895060344832</td>\n",
       "      <td>icarusfloats</td>\n",
       "      <td>Tue Nov 05 20:29:48 +0000 2019</td>\n",
       "      <td>@millioninprizes so cool! Well done, Heather! ...</td>\n",
       "    </tr>\n",
       "    <tr>\n",
       "      <th>4</th>\n",
       "      <td>1191812192045273088</td>\n",
       "      <td>icarusfloats</td>\n",
       "      <td>Tue Nov 05 20:19:04 +0000 2019</td>\n",
       "      <td>@millioninprizes wowy wow wow it works!</td>\n",
       "    </tr>\n",
       "    <tr>\n",
       "      <th>5</th>\n",
       "      <td>1191799378949922816</td>\n",
       "      <td>icarusfloats</td>\n",
       "      <td>Tue Nov 05 19:28:09 +0000 2019</td>\n",
       "      <td>@millioninprizes Hello, wonderful spinny boi! ...</td>\n",
       "    </tr>\n",
       "    <tr>\n",
       "      <th>6</th>\n",
       "      <td>1191785621347610629</td>\n",
       "      <td>icarusfloats</td>\n",
       "      <td>Tue Nov 05 18:33:29 +0000 2019</td>\n",
       "      <td>@millioninprizes what happens if I send a test...</td>\n",
       "    </tr>\n",
       "    <tr>\n",
       "      <th>7</th>\n",
       "      <td>1191785157218521092</td>\n",
       "      <td>grittygremlin</td>\n",
       "      <td>Tue Nov 05 18:31:38 +0000 2019</td>\n",
       "      <td>@millioninprizes</td>\n",
       "    </tr>\n",
       "    <tr>\n",
       "      <th>8</th>\n",
       "      <td>1189994649500422145</td>\n",
       "      <td>AmazonHelp</td>\n",
       "      <td>Thu Oct 31 19:56:48 +0000 2019</td>\n",
       "      <td>@millioninprizes We definitely understand your...</td>\n",
       "    </tr>\n",
       "  </tbody>\n",
       "</table>\n",
       "</div>"
      ],
      "text/plain": [
       "              Tweet ID           User                      Created At  \\\n",
       "0  1194136096424071168        eleglac  Tue Nov 12 06:13:26 +0000 2019   \n",
       "1  1194134502626357250        eleglac  Tue Nov 12 06:07:06 +0000 2019   \n",
       "2  1191864428850892800        ShoMarq  Tue Nov 05 23:46:38 +0000 2019   \n",
       "3  1191814895060344832   icarusfloats  Tue Nov 05 20:29:48 +0000 2019   \n",
       "4  1191812192045273088   icarusfloats  Tue Nov 05 20:19:04 +0000 2019   \n",
       "5  1191799378949922816   icarusfloats  Tue Nov 05 19:28:09 +0000 2019   \n",
       "6  1191785621347610629   icarusfloats  Tue Nov 05 18:33:29 +0000 2019   \n",
       "7  1191785157218521092  grittygremlin  Tue Nov 05 18:31:38 +0000 2019   \n",
       "8  1189994649500422145     AmazonHelp  Thu Oct 31 19:56:48 +0000 2019   \n",
       "\n",
       "                                                Text  \n",
       "0  @millioninprizes the last one had a beautiful ...  \n",
       "1          @millioninprizes gimme some podcast magic  \n",
       "2         @millioninprizes let's play this game/test  \n",
       "3  @millioninprizes so cool! Well done, Heather! ...  \n",
       "4            @millioninprizes wowy wow wow it works!  \n",
       "5  @millioninprizes Hello, wonderful spinny boi! ...  \n",
       "6  @millioninprizes what happens if I send a test...  \n",
       "7                                   @millioninprizes  \n",
       "8  @millioninprizes We definitely understand your...  "
      ]
     },
     "execution_count": 81,
     "metadata": {},
     "output_type": "execute_result"
    }
   ],
   "source": [
    "\n",
    "\n",
    "def get_mentions(x):\n",
    "    df =  pd.DataFrame(columns=['Tweet ID', 'User', 'Created At', 'Text'])\n",
    "    result_list = api.mentions_timeline(count=x)\n",
    "    for i in range(len(result_list)):\n",
    "        status = result_list[i]\n",
    "        #print(i)\n",
    "    #print(status)\n",
    "        json_str = json.dumps(status._json)\n",
    "        text =json.loads(json_str)\n",
    "    #print(text)\n",
    "        twitteruser = text['user']['screen_name']\n",
    "        tweetid = text['id']\n",
    "        tweettime = text['created_at']\n",
    "        tweettext = text['text']\n",
    "        #don't print, make a dataframe indexed on tweet id \n",
    "        #print(twitteruser, tweetid, tweettime, tweettext)\n",
    "        data = {'Tweet ID':tweetid, 'User': twitteruser, 'Created At':tweettime, 'Text':tweettext}\n",
    "        df = df.append(data, ignore_index=True)\n",
    "        \n",
    "    return df\n",
    "\n",
    "#now = get_mentions(10)\n",
    "#now"
   ]
  },
  {
   "cell_type": "code",
   "execution_count": 83,
   "metadata": {},
   "outputs": [
    {
     "name": "stdout",
     "output_type": "stream",
     "text": [
      "              Tweet ID           User                      Created At  \\\n",
      "0  1194136096424071168        eleglac  Tue Nov 12 06:13:26 +0000 2019   \n",
      "1  1194134502626357250        eleglac  Tue Nov 12 06:07:06 +0000 2019   \n",
      "2  1191864428850892800        ShoMarq  Tue Nov 05 23:46:38 +0000 2019   \n",
      "3  1191814895060344832   icarusfloats  Tue Nov 05 20:29:48 +0000 2019   \n",
      "4  1191812192045273088   icarusfloats  Tue Nov 05 20:19:04 +0000 2019   \n",
      "5  1191799378949922816   icarusfloats  Tue Nov 05 19:28:09 +0000 2019   \n",
      "6  1191785621347610629   icarusfloats  Tue Nov 05 18:33:29 +0000 2019   \n",
      "7  1191785157218521092  grittygremlin  Tue Nov 05 18:31:38 +0000 2019   \n",
      "8  1189994649500422145     AmazonHelp  Thu Oct 31 19:56:48 +0000 2019   \n",
      "\n",
      "                                                Text  \n",
      "0  @millioninprizes the last one had a beautiful ...  \n",
      "1          @millioninprizes gimme some podcast magic  \n",
      "2         @millioninprizes let's play this game/test  \n",
      "3  @millioninprizes so cool! Well done, Heather! ...  \n",
      "4            @millioninprizes wowy wow wow it works!  \n",
      "5  @millioninprizes Hello, wonderful spinny boi! ...  \n",
      "6  @millioninprizes what happens if I send a test...  \n",
      "7                                   @millioninprizes  \n",
      "8  @millioninprizes We definitely understand your...  \n",
      "[]\n",
      "Empty DataFrame\n",
      "Columns: [Tweet ID, User, Created At, Text]\n",
      "Index: []\n"
     ]
    }
   ],
   "source": [
    "\n",
    "#history =pd.read_csv('history.csv')\n",
    "#print(now)\n",
    "\n",
    "#new = np.setdiff1d(now['Tweet ID'],history['Tweet ID'])\n",
    "#print(new)\n",
    "#not_replied_to = now[now['Tweet ID'].isin(new)]\n",
    "#print(not_replied_to)"
   ]
  },
  {
   "cell_type": "code",
   "execution_count": null,
   "metadata": {},
   "outputs": [],
   "source": []
  },
  {
   "cell_type": "code",
   "execution_count": 92,
   "metadata": {
    "scrolled": true
   },
   "outputs": [],
   "source": [
    "def reply_and_update(Win, history, now, new, not_replied_to):\n",
    "    if len(not_replied_to) > 0:\n",
    "        for thing in range(len(not_replied_to)):\n",
    "            print(\"I am responding to \"+ str(thing+1)+ \" tweet\")\n",
    "            print(not_replied_to)\n",
    "            api.update_status(\"@\"+not_replied_to['User'][thing]+ \" You got \" + Win['Genre'] +\". Why not try out \"+ Win['Title']+ \"? They can be found at: \" + Win['Tiny'], not_replied_to['Tweet ID'][thing])\n",
    "            history = history.append(not_replied_to, ignore_index=True)\n",
    "            history.loc[history['Tweet ID'] ==not_replied_to['Tweet ID'][thing] , 'Responded'] = 'Yes'\n",
    "            history.to_csv('history.csv')\n",
    "    else:\n",
    "        print(\"Nothing to tweet\")\n",
    "    \n",
    "\n"
   ]
  },
  {
   "cell_type": "code",
   "execution_count": 96,
   "metadata": {},
   "outputs": [],
   "source": [
    "def do_the_thing():\n",
    "    spinnydf =get_recommendations(\"https://docs.google.com/spreadsheets/d/e/2PACX-1vTWc2VxHamAlR4RQK2GiDg6eVGiWa-azbIssCeSwxMnOOuqv200oZoIgxF4LWcAWHOAVBugXLUbQx9E/pub?output=csv\", ['Title', 'Genre', 'Genre Number', 'Link'])\n",
    "    #print(spinnydf)\n",
    "    Win2 = spinthewheel(spinnydf)\n",
    "    print(\"The winner is:\")\n",
    "    print(Win2)\n",
    "    Tweets = pd.DataFrame()\n",
    "    now = get_mentions(50)\n",
    "    history =pd.read_csv('history.csv')\n",
    "    new = np.setdiff1d(now['Tweet ID'],history['Tweet ID'])\n",
    "    not_replied_to = now[now['Tweet ID'].isin(new)]\n",
    "    #print(not_replied_to)\n",
    "    history2 =pd.read_csv('history.csv')\n",
    "    #print(history)\n",
    "\n",
    "    reply_and_update(Win2,history2, now, new, not_replied_to)\n",
    "\n",
    "\n"
   ]
  },
  {
   "cell_type": "code",
   "execution_count": 116,
   "metadata": {},
   "outputs": [
    {
     "name": "stdout",
     "output_type": "stream",
     "text": [
      "The winner is:\n",
      "Title                      The Alexandria Archives\n",
      "Genre                                       Comedy\n",
      "Genre Number                                     1\n",
      "Link            http://www.alexandriaarchives.com/\n",
      "Tiny                   http://tinyurl.com/y2b239tt\n",
      "Name: 86, dtype: object\n",
      "Nothing to tweet\n"
     ]
    }
   ],
   "source": [
    "do_the_thing()"
   ]
  },
  {
   "cell_type": "code",
   "execution_count": null,
   "metadata": {},
   "outputs": [],
   "source": []
  },
  {
   "cell_type": "code",
   "execution_count": null,
   "metadata": {},
   "outputs": [],
   "source": []
  }
 ],
 "metadata": {
  "kernelspec": {
   "display_name": "Python 3",
   "language": "python",
   "name": "python3"
  },
  "language_info": {
   "codemirror_mode": {
    "name": "ipython",
    "version": 3
   },
   "file_extension": ".py",
   "mimetype": "text/x-python",
   "name": "python",
   "nbconvert_exporter": "python",
   "pygments_lexer": "ipython3",
   "version": "3.6.8"
  }
 },
 "nbformat": 4,
 "nbformat_minor": 2
}
