{
 "cells": [
  {
   "cell_type": "code",
   "execution_count": 1,
   "metadata": {},
   "outputs": [],
   "source": [
    "CONSUMER_KEY ='ymcxpUV2EUCHxgMNIkka32IMg'\n",
    "CONSUMER_SECRET ='FYRyZQlLGGTpdcNAU8lc58KqIjZ68WHiOgGUJstu5MoMJwiJlT'\n",
    "ACCESS_TOKEN ='2981595259-pa6gD2AKX6YvMUpl3L4jwAuOVk42qZSJbRXYITW'\n",
    "ACCESS_TOKEN_SECRET ='d2CnPzndB7BVMv5t6iubOTz8TPgd7yjWsbL0dfefnS6Ds'\n"
   ]
  },
  {
   "cell_type": "code",
   "execution_count": 2,
   "metadata": {},
   "outputs": [
    {
     "name": "stdout",
     "output_type": "stream",
     "text": [
      "Stored 'CONSUMER_KEY' (str)\n",
      "Stored 'CONSUMER_SECRET' (str)\n",
      "Stored 'ACCESS_TOKEN' (str)\n",
      "Stored 'ACCESS_TOKEN_SECRET' (str)\n"
     ]
    }
   ],
   "source": [
    "%store CONSUMER_KEY\n",
    "%store CONSUMER_SECRET\n",
    "%store ACCESS_TOKEN\n",
    "%store ACCESS_TOKEN_SECRET"
   ]
  },
  {
   "cell_type": "code",
   "execution_count": null,
   "metadata": {},
   "outputs": [],
   "source": []
  }
 ],
 "metadata": {
  "kernelspec": {
   "display_name": "Python 3",
   "language": "python",
   "name": "python3"
  },
  "language_info": {
   "codemirror_mode": {
    "name": "ipython",
    "version": 3
   },
   "file_extension": ".py",
   "mimetype": "text/x-python",
   "name": "python",
   "nbconvert_exporter": "python",
   "pygments_lexer": "ipython3",
   "version": "3.6.8"
  }
 },
 "nbformat": 4,
 "nbformat_minor": 2
}
